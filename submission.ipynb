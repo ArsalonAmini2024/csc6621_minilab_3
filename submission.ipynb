{
 "cells": [
  {
   "cell_type": "markdown",
   "metadata": {},
   "source": [
    "CSC6621 Spring 2023\n",
    "Dr. Berisha\n",
    "Mini Lab #3\n",
    "Amini, Arsalon"
   ]
  },
  {
   "cell_type": "code",
   "execution_count": 7,
   "metadata": {},
   "outputs": [],
   "source": [
    "import gzip\n",
    "import struct\n",
    "import numpy as np\n",
    "import matplotlib.pyplot as plt\n",
    "import requests\n",
    "from tqdm import tqdm"
   ]
  },
  {
   "cell_type": "code",
   "execution_count": 8,
   "metadata": {},
   "outputs": [],
   "source": [
    "# Download a list of files\n",
    "def download_files(url_list):\n",
    "    file_paths = []\n",
    "    for url in url_list:\n",
    "        path = url.split('/')[-1]\n",
    "        r = requests.get(url, stream=True)\n",
    "        with open(path, 'wb') as f:\n",
    "            total_length = int(r.headers.get('content-length'))\n",
    "            print('Downloading {} - {:.1f} MB'.format(path, (total_length / 1024000)))\n",
    "            for chunk in tqdm(r.iter_content(chunk_size=1024), total=int(total_length / 1024) + 1, unit=\"KB\"):\n",
    "                if chunk:\n",
    "                    f.write(chunk)\n",
    "        file_paths.append(path)\n",
    "    print('All dataset files downloaded!')\n",
    "    return file_paths\n"
   ]
  },
  {
   "cell_type": "code",
   "execution_count": 9,
   "metadata": {},
   "outputs": [],
   "source": [
    "# Load and plot data from the .npz format\n",
    "def load_and_plot_data(file_paths):\n",
    "    # Load data\n",
    "    data = np.load(file_paths[0])\n",
    "    images = data['arr_0']\n",
    "    labels = np.load(file_paths[1])['arr_0']\n",
    "\n",
    "    # Plot examples from 4 different classes\n",
    "    classes_to_plot = 4\n",
    "    examples_per_class = 3\n",
    "    fig, axes = plt.subplots(nrows=classes_to_plot, ncols=examples_per_class, figsize=(10, 10))\n",
    "    for i in range(classes_to_plot):\n",
    "        class_images = images[labels == i]\n",
    "        for j in range(examples_per_class):\n",
    "            axes[i, j].imshow(class_images[j], cmap='gray')\n",
    "            axes[i, j].axis('off')\n",
    "    plt.show()\n",
    "\n",
    "    return images, labels"
   ]
  },
  {
   "cell_type": "code",
   "execution_count": 10,
   "metadata": {},
   "outputs": [],
   "source": [
    "# Reshape and normalize images\n",
    "def preprocess_images(images):\n",
    "    images = images.reshape(-1, 28, 28, 1).astype('float32') / 255\n",
    "    return images"
   ]
  },
  {
   "cell_type": "code",
   "execution_count": 11,
   "metadata": {},
   "outputs": [
    {
     "name": "stdout",
     "output_type": "stream",
     "text": [
      "Downloading kmnist-train-imgs.npz - 18.0 MB\n"
     ]
    },
    {
     "name": "stderr",
     "output_type": "stream",
     "text": [
      "100%|██████████| 17954/17954 [00:21<00:00, 831.73KB/s] \n"
     ]
    },
    {
     "name": "stdout",
     "output_type": "stream",
     "text": [
      "Downloading kmnist-train-labels.npz - 0.0 MB\n"
     ]
    },
    {
     "name": "stderr",
     "output_type": "stream",
     "text": [
      "100%|██████████| 30/30 [00:00<00:00, 305.11KB/s]\n"
     ]
    },
    {
     "name": "stdout",
     "output_type": "stream",
     "text": [
      "Downloading kmnist-test-imgs.npz - 3.0 MB\n"
     ]
    },
    {
     "name": "stderr",
     "output_type": "stream",
     "text": [
      "100%|██████████| 3008/3008 [00:03<00:00, 874.96KB/s]\n"
     ]
    },
    {
     "name": "stdout",
     "output_type": "stream",
     "text": [
      "Downloading kmnist-test-labels.npz - 0.0 MB\n"
     ]
    },
    {
     "name": "stderr",
     "output_type": "stream",
     "text": [
      "100%|██████████| 6/6 [00:00<00:00, 16246.50KB/s]\n"
     ]
    },
    {
     "name": "stdout",
     "output_type": "stream",
     "text": [
      "All dataset files downloaded!\n"
     ]
    },
    {
     "data": {
      "image/png": "[encoded data removed]",
      "text/plain": [
       "<Figure size 1000x1000 with 12 Axes>"
      ]
     },
     "metadata": {},
     "output_type": "display_data"
    },
    {
     "name": "stdout",
     "output_type": "stream",
     "text": [
      "Images are reshaped and normalized.\n"
     ]
    }
   ],
   "source": [
    "selected_urls = [\n",
    "        'http://codh.rois.ac.jp/kmnist/dataset/kmnist/kmnist-train-imgs.npz',\n",
    "        'http://codh.rois.ac.jp/kmnist/dataset/kmnist/kmnist-train-labels.npz',\n",
    "        'http://codh.rois.ac.jp/kmnist/dataset/kmnist/kmnist-test-imgs.npz',\n",
    "        'http://codh.rois.ac.jp/kmnist/dataset/kmnist/kmnist-test-labels.npz'\n",
    "    ]\n",
    "\n",
    "# Download files\n",
    "file_paths = download_files(selected_urls)\n",
    "\n",
    "# Load, plot and preprocess the data\n",
    "images, labels = load_and_plot_data(file_paths)\n",
    "images = preprocess_images(images)\n",
    "print(\"Images are reshaped and normalized.\")"
   ]
  }
 ],
 "metadata": {
  "kernelspec": {
   "display_name": "minilab3_venv",
   "language": "python",
   "name": "python3"
  },
  "language_info": {
   "codemirror_mode": {
    "name": "ipython",
    "version": 3
   },
   "file_extension": ".py",
   "mimetype": "text/x-python",
   "name": "python",
   "nbconvert_exporter": "python",
   "pygments_lexer": "ipython3",
   "version": "3.12.3"
  }
 },
 "nbformat": 4,
 "nbformat_minor": 2
}
